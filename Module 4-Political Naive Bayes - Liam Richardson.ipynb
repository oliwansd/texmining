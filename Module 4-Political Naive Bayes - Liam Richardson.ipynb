{
 "cells": [
  {
   "cell_type": "markdown",
   "metadata": {},
   "source": [
    "## Naive Bayes on Political Text\n",
    "\n",
    "In this notebook we use Naive Bayes to explore and classify political data. See the `README.md` for full details."
   ]
  },
  {
   "cell_type": "code",
   "execution_count": 2,
   "metadata": {},
   "outputs": [],
   "source": [
    "import sqlite3\n",
    "import nltk\n",
    "import random\n",
    "import numpy as np\n",
    "from collections import Counter, defaultdict\n",
    "import cursor\n",
    "\n",
    "# Feel free to include your text patterns functions\n",
    "#from text_functions_solutions import clean_tokenize, get_patterns\n",
    "\n",
    "nltk.download('punkt')\n",
    "nltk.download('stopwords')"
   ]
  },
  {
   "cell_type": "code",
   "execution_count": 3,
   "metadata": {},
   "outputs": [],
   "source": [
    "convention_db = sqlite3.connect(\"2020_Conventions.db\")\n",
    "convention_cur = convention_db.cursor()"
   ]
  },
  {
   "cell_type": "markdown",
   "metadata": {},
   "source": [
    "### Part 1: Exploratory Naive Bayes\n",
    "\n",
    "We'll first build a NB model on the convention data itself, as a way to understand what words distinguish between the two parties. This is analogous to what we did in the \"Comparing Groups\" class work. First, pull in the text \n",
    "for each party and prepare it for use in Naive Bayes.  "
   ]
  },
  {
   "cell_type": "code",
   "execution_count": 93,
   "metadata": {},
   "outputs": [],
   "source": [
    "# # View the first row of the 'conventions' table\n",
    "# convention_cur.execute(\"SELECT * FROM conventions LIMIT 2;\")\n",
    "# row = convention_cur.fetchone()\n"
   ]
  },
  {
   "cell_type": "code",
   "execution_count": 12,
   "metadata": {},
   "outputs": [],
   "source": [
    "convention_data = []\n",
    "\n",
    "# Connect to the database and create a cursor\n",
    "convention_conn = sqlite3.connect(\"2020_Conventions.db\")\n",
    "convention_cur = convention_conn.cursor()\n",
    "\n",
    "# Query to get the speech text and party from the table\n",
    "query_results = convention_cur.execute(\n",
    "    '''\n",
    "    SELECT text, party FROM conventions;\n",
    "    '''\n",
    ")\n",
    "\n",
    "for row in query_results:\n",
    "    text, party = row\n",
    "    # Tokenize and clean the text (convert to lowercase and tokenize)\n",
    "    tokens = nltk.word_tokenize(text.lower())\n",
    "    cleaned_text = ' '.join(tokens)\n",
    "    # Append to the data list\n",
    "    convention_data.append([cleaned_text, party])"
   ]
  },
  {
   "cell_type": "markdown",
   "metadata": {},
   "source": [
    "Let's look at some random entries and see if they look right. "
   ]
  },
  {
   "cell_type": "markdown",
   "metadata": {},
   "source": [
    "If that looks good, we now need to make our function to turn these into features. In my solution, I wanted to keep the number of features reasonable, so I only used words that occur at least `word_cutoff` times. Here's the code to test that if you want it. "
   ]
  },
  {
   "cell_type": "code",
   "execution_count": 34,
   "metadata": {},
   "outputs": [
    {
     "name": "stdout",
     "output_type": "stream",
     "text": [
      "With cutoff 5, features: 2236\n"
     ]
    }
   ],
   "source": [
    "import string\n",
    "\n",
    "word_cutoff = 5\n",
    "tokens = [w for t, p in convention_data for w in t.split()]\n",
    "\n",
    "word_dist = nltk.FreqDist(tokens)\n",
    "\n",
    "stop_words = set(stopwords.words('english'))\n",
    "punct    = set(string.punctuation)\n",
    "\n",
    "feature_words = {\n",
    "    word\n",
    "    for word, count in word_dist.items()\n",
    "    if count > word_cutoff    \n",
    "        ## I added these extra conditions to be able to pass the assertion later on\n",
    "       and word.isalpha()       \n",
    "       and word not in stop_words  \n",
    "       and word not in punct       \n",
    "}\n",
    "\n",
    "print(f\"With cutoff {word_cutoff}, features: {len(feature_words)}\")"
   ]
  },
  {
   "cell_type": "code",
   "execution_count": 35,
   "metadata": {},
   "outputs": [],
   "source": [
    "def conv_features(text, fw):\n",
    "    \"\"\"\n",
    "    Return a {word: True} dictionary for every word in *text*\n",
    "    that is also in the feature-word set *fw*.  Each word is\n",
    "    counted only once.\n",
    "\n",
    "    Parameters\n",
    "    ----------\n",
    "    text : str\n",
    "        Case-folded, cleaned text to inspect.\n",
    "    fw   : set\n",
    "        Feature-word set (words we care about).\n",
    "\n",
    "    Returns\n",
    "    -------\n",
    "    dict\n",
    "        Keys are the feature words found in *text*, values are True.\n",
    "    \"\"\"\n",
    "    # Split the text into individual words and discard duplicates\n",
    "    tokens_in_text = set(text.split())\n",
    "\n",
    "    return {word: True for word in tokens_in_text if word in fw}\n"
   ]
  },
  {
   "cell_type": "code",
   "execution_count": 36,
   "metadata": {},
   "outputs": [
    {
     "data": {
      "text/plain": [
       "{'president': True, 'donald': True}"
      ]
     },
     "execution_count": 36,
     "metadata": {},
     "output_type": "execute_result"
    }
   ],
   "source": [
    "conv_features(\"donald is the president\",feature_words)"
   ]
  },
  {
   "cell_type": "code",
   "execution_count": 37,
   "metadata": {},
   "outputs": [],
   "source": [
    "assert(len(feature_words)>0)\n",
    "assert(conv_features(\"donald is the president\",feature_words)==\n",
    "       {'donald':True,'president':True})\n",
    "assert(conv_features(\"people are american in america\",feature_words)==\n",
    "                     {'america':True,'american':True,\"people\":True})"
   ]
  },
  {
   "cell_type": "markdown",
   "metadata": {},
   "source": [
    "Now we'll build our feature set. Out of curiosity I did a train/test split to see how accurate the classifier was, but we don't strictly need to since this analysis is exploratory. "
   ]
  },
  {
   "cell_type": "code",
   "execution_count": 38,
   "metadata": {},
   "outputs": [],
   "source": [
    "featuresets = [(conv_features(text,feature_words), party) for (text, party) in convention_data]"
   ]
  },
  {
   "cell_type": "code",
   "execution_count": 39,
   "metadata": {},
   "outputs": [],
   "source": [
    "random.seed(20220507)\n",
    "random.shuffle(featuresets)\n",
    "\n",
    "test_size = 500"
   ]
  },
  {
   "cell_type": "code",
   "execution_count": 40,
   "metadata": {},
   "outputs": [
    {
     "name": "stdout",
     "output_type": "stream",
     "text": [
      "0.494\n"
     ]
    }
   ],
   "source": [
    "test_set, train_set = featuresets[:test_size], featuresets[test_size:]\n",
    "classifier = nltk.NaiveBayesClassifier.train(train_set)\n",
    "print(nltk.classify.accuracy(classifier, test_set))"
   ]
  },
  {
   "cell_type": "code",
   "execution_count": 41,
   "metadata": {},
   "outputs": [
    {
     "name": "stdout",
     "output_type": "stream",
     "text": [
      "Most Informative Features\n",
      "                   china = True           Republ : Democr =     27.1 : 1.0\n",
      "                   votes = True           Democr : Republ =     23.8 : 1.0\n",
      "             enforcement = True           Republ : Democr =     21.5 : 1.0\n",
      "                 destroy = True           Republ : Democr =     19.2 : 1.0\n",
      "                freedoms = True           Republ : Democr =     18.2 : 1.0\n",
      "                 climate = True           Democr : Republ =     17.8 : 1.0\n",
      "                supports = True           Republ : Democr =     17.1 : 1.0\n",
      "                   crime = True           Republ : Democr =     16.1 : 1.0\n",
      "                   media = True           Republ : Democr =     15.8 : 1.0\n",
      "                 beliefs = True           Republ : Democr =     13.0 : 1.0\n",
      "               countries = True           Republ : Democr =     13.0 : 1.0\n",
      "                 defense = True           Republ : Democr =     13.0 : 1.0\n",
      "                  defund = True           Republ : Democr =     13.0 : 1.0\n",
      "                    isis = True           Republ : Democr =     13.0 : 1.0\n",
      "                 liberal = True           Republ : Democr =     13.0 : 1.0\n",
      "                religion = True           Republ : Democr =     13.0 : 1.0\n",
      "                   trade = True           Republ : Democr =     12.7 : 1.0\n",
      "                    flag = True           Republ : Democr =     12.1 : 1.0\n",
      "               greatness = True           Republ : Democr =     12.1 : 1.0\n",
      "                 abraham = True           Republ : Democr =     11.9 : 1.0\n",
      "                    drug = True           Republ : Democr =     10.9 : 1.0\n",
      "              department = True           Republ : Democr =     10.9 : 1.0\n",
      "               destroyed = True           Republ : Democr =     10.9 : 1.0\n",
      "                   enemy = True           Republ : Democr =     10.9 : 1.0\n",
      "               amendment = True           Republ : Democr =     10.3 : 1.0\n"
     ]
    }
   ],
   "source": [
    "classifier.show_most_informative_features(25)"
   ]
  },
  {
   "cell_type": "markdown",
   "metadata": {},
   "source": [
    "Write a little prose here about what you see in the classifier. Anything odd or interesting?\n",
    "\n",
    "### My Observations\n",
    "\n",
    "Based on my time listening to political commentary, some of these make sense (freedoms,defense,isis,religion) being associated with Republican and Climate and  Voter rights being associated with democrats. However there are some very generic words like countries,beliefs,supports which are associated with republicans , which to me points in some bias in how the data was either recorded,ingested or preprocessed as I think this time of imbalance - republicans being 13x more likely to say \"supports\" doesn't seem plausible\n",
    "\n"
   ]
  },
  {
   "cell_type": "markdown",
   "metadata": {},
   "source": [
    "## Part 2: Classifying Congressional Tweets\n",
    "\n",
    "In this part we apply the classifer we just built to a set of tweets by people running for congress\n",
    "in 2018. These tweets are stored in the database `congressional_data.db`. That DB is funky, so I'll\n",
    "give you the query I used to pull out the tweets. Note that this DB has some big tables and \n",
    "is unindexed, so the query takes a minute or two to run on my machine."
   ]
  },
  {
   "cell_type": "code",
   "execution_count": 42,
   "metadata": {},
   "outputs": [],
   "source": [
    "cong_db = sqlite3.connect(\"congressional_data.db\")\n",
    "cong_cur = cong_db.cursor()"
   ]
  },
  {
   "cell_type": "code",
   "execution_count": 48,
   "metadata": {},
   "outputs": [],
   "source": [
    "results = cong_cur.execute(\n",
    "        '''\n",
    "           SELECT DISTINCT \n",
    "                  cd.candidate, \n",
    "                  cd.party,\n",
    "                  tw.tweet_text\n",
    "           FROM candidate_data cd \n",
    "           INNER JOIN tweets tw ON cd.twitter_handle = tw.handle \n",
    "               AND cd.candidate == tw.candidate \n",
    "               AND cd.district == tw.district\n",
    "           WHERE cd.party in ('Republican','Democratic') \n",
    "               AND tw.tweet_text NOT LIKE '%RT%'\n",
    "        ''')\n",
    "\n",
    "tweet_results = list(results) # Just to store it, since the query is time consuming"
   ]
  },
  {
   "cell_type": "markdown",
   "metadata": {},
   "source": [
    "Basically copied the workflow from the first section and just slotted in tweet_feature_words instead"
   ]
  },
  {
   "cell_type": "code",
   "execution_count": 58,
   "metadata": {},
   "outputs": [
    {
     "name": "stdout",
     "output_type": "stream",
     "text": [
      "With cutoff 5, features: 40143\n"
     ]
    }
   ],
   "source": [
    "\n",
    "\n",
    "\n",
    "tokens = [w for t, p in tweet_data for w in t.split()]\n",
    "\n",
    "word_dist = nltk.FreqDist(tokens)\n",
    "\n",
    "stop_words = set(stopwords.words('english'))\n",
    "punct    = set(string.punctuation)\n",
    "\n",
    "tweet_feature_words = {\n",
    "    word\n",
    "    for word, count in word_dist.items()\n",
    "    if count > word_cutoff      # frequent enough…\n",
    "       and word.isalpha()        # purely alphabetic…\n",
    "       and word not in stop_words  # not a stop‑word…\n",
    "       and word not in punct       # not just punctuation\n",
    "}\n",
    "\n",
    "print(f\"With cutoff {word_cutoff}, features: {len(tweet_feature_words)}\")"
   ]
  },
  {
   "cell_type": "code",
   "execution_count": 59,
   "metadata": {},
   "outputs": [],
   "source": [
    "featuresets = [(conv_features(text,tweet_feature_words), party) for (text, party) in tweet_data]"
   ]
  },
  {
   "cell_type": "code",
   "execution_count": 62,
   "metadata": {},
   "outputs": [],
   "source": [
    "len(featuresets)\n",
    "random.seed(20220507)\n",
    "random.shuffle(featuresets)\n",
    "\n",
    "test_size = 20000"
   ]
  },
  {
   "cell_type": "code",
   "execution_count": 63,
   "metadata": {},
   "outputs": [
    {
     "name": "stdout",
     "output_type": "stream",
     "text": [
      "0.7719\n"
     ]
    }
   ],
   "source": [
    "test_set, train_set = featuresets[:test_size], featuresets[test_size:]\n",
    "classifier = nltk.NaiveBayesClassifier.train(train_set)\n",
    "print(nltk.classify.accuracy(classifier, test_set))"
   ]
  },
  {
   "cell_type": "markdown",
   "metadata": {},
   "source": [
    "There are a lot of tweets here. Let's take a random sample and see how our classifer does. I'm guessing it won't be too great given the performance on the convention speeches..."
   ]
  },
  {
   "cell_type": "code",
   "execution_count": 60,
   "metadata": {},
   "outputs": [],
   "source": [
    "random.seed(20201014)\n",
    "\n",
    "tweet_data_sample = random.choices(tweet_data,k=10)"
   ]
  },
  {
   "cell_type": "code",
   "execution_count": 70,
   "metadata": {},
   "outputs": [
    {
     "data": {
      "text/plain": [
       "['earlier today , i spoke on the house floor abt protecting health care for women and praised @ ppmarmonte for their work on the central coast . https : //t.co/wqgtrzt7vv',\n",
       " 'Democratic']"
      ]
     },
     "execution_count": 70,
     "metadata": {},
     "output_type": "execute_result"
    }
   ],
   "source": [
    "tweet_data_sample[0]"
   ]
  },
  {
   "cell_type": "markdown",
   "metadata": {},
   "source": [
    "Random sample makes sense to me, womens health care is central to the democratic ideology"
   ]
  },
  {
   "cell_type": "code",
   "execution_count": 71,
   "metadata": {},
   "outputs": [
    {
     "name": "stdout",
     "output_type": "stream",
     "text": [
      "Here's our (cleaned) tweet: earlier today , i spoke on the house floor abt protecting health care for women and praised @ ppmarmonte for their work on the central coast . https : //t.co/wqgtrzt7vv\n",
      "Actual party is Democratic and our classifer says Democratic.\n",
      "\n",
      "Here's our (cleaned) tweet: go tribe ! # rallytogether https : //t.co/0nxutfl9l5\n",
      "Actual party is Democratic and our classifer says Democratic.\n",
      "\n",
      "Here's our (cleaned) tweet: apparently , trump thinks it 's just too easy for students overwhelmed by the crushing burden of debt to pay off student loans # trumpbudget https : //t.co/ckyqo5t0qh\n",
      "Actual party is Democratic and our classifer says Democratic.\n",
      "\n",
      "Here's our (cleaned) tweet: we ’ re grateful for our first responders , our rescue personnel , our firefighters , our police , and volunteers who have been working tirelessly to keep people safe , provide much-needed help , while putting their own lives on the line . https : //t.co/ezpv0vmiz3\n",
      "Actual party is Republican and our classifer says Democratic.\n",
      "\n",
      "Here's our (cleaned) tweet: let ’ s make it even greater ! ! # kag 🇺🇸 https : //t.co/y9qozd5l2z\n",
      "Actual party is Republican and our classifer says Republican.\n",
      "\n",
      "Here's our (cleaned) tweet: we have about 1hr until the @ cavs tie up the series 2-2. i 'm # allin216 @ repbarbaralee you scared ? # roadtovictory\n",
      "Actual party is Democratic and our classifer says Democratic.\n",
      "\n",
      "Here's our (cleaned) tweet: congrats to @ belliottsd on his new gig at sd city hall . we are glad you will continue to serve… https : //t.co/fkvmw3cqdi\n",
      "Actual party is Democratic and our classifer says Democratic.\n",
      "\n",
      "Here's our (cleaned) tweet: we are really close , we have over $ 3500 raised toward the match right now . whoot ! ! ( that ’ s $ 7000 for the non-math majors in the room 😂 ) . help us get there https : //t.co/tu34c472sd https : //t.co/qsdqkypsmc\n",
      "Actual party is Democratic and our classifer says Democratic.\n",
      "\n",
      "Here's our (cleaned) tweet: today , the comment period for @ potus ’ s plan to expand offshore drilling opened to the public . you have 60 days ( until march 9 ) to share why you oppose the proposed program directly with the trump administration . comments can be made by email or mail . https : //t.co/baaymejxqn\n",
      "Actual party is Democratic and our classifer says Democratic.\n",
      "\n",
      "Here's our (cleaned) tweet: celebrated @ icseastla ’ s 22 years of eastside commitment & amp ; saluted community leaders at last night ’ s awards dinner ! https : //t.co/7v7gh8givb\n",
      "Actual party is Democratic and our classifer says Democratic.\n",
      "\n"
     ]
    }
   ],
   "source": [
    "\n",
    "for tweet, party in tweet_data_sample :\n",
    "    features = conv_features(tweet, tweet_feature_words)  # Convert text to feature dict\n",
    "    estimated_party = classifier.classify(features)    \n",
    "    \n",
    "    print(f\"Here's our (cleaned) tweet: {tweet}\")\n",
    "    print(f\"Actual party is {party} and our classifer says {estimated_party}.\")\n",
    "    print(\"\")\n",
    "    "
   ]
  },
  {
   "cell_type": "markdown",
   "metadata": {},
   "source": [
    "Now that we've looked at it some, let's score a bunch and see how we're doing."
   ]
  },
  {
   "cell_type": "code",
   "execution_count": 74,
   "metadata": {},
   "outputs": [],
   "source": [
    "\n",
    "# I had gpt assist with this section a bit as the template was a bit hard for me to decipher\n",
    "parties = ['Republican', 'Democratic']\n",
    "results = defaultdict(lambda: defaultdict(int))\n",
    "\n",
    "for p in parties:\n",
    "    for p1 in parties:\n",
    "        results[p][p1] = 0\n",
    "\n",
    "num_to_score = len(tweet_data)\n",
    "random.shuffle(tweet_data)\n",
    "\n",
    "for idx, (tweet, party) in enumerate(tweet_data):\n",
    "    features = conv_features(tweet, tweet_feature_words)  # convert text to feature dict\n",
    "    estimated_party = classifier.classify(features)        # classify\n",
    "    results[party][estimated_party] += 1\n",
    "\n",
    "    if idx > num_to_score:\n",
    "        break\n"
   ]
  },
  {
   "cell_type": "code",
   "execution_count": 92,
   "metadata": {},
   "outputs": [
    {
     "data": {
      "image/png": "[encoded data removed]",
      "text/plain": [
       "<Figure size 800x200 with 1 Axes>"
      ]
     },
     "metadata": {},
     "output_type": "display_data"
    },
    {
     "name": "stdout",
     "output_type": "stream",
     "text": [
      "\n",
      "Total Accuracy: 78.40%\n"
     ]
    }
   ],
   "source": [
    "#Generated a table to show the results as I was curious about both the relative and absolute performance\n",
    "summary_rows = []\n",
    "for party in parties:\n",
    "    correct = results[party][party]\n",
    "    misclassified = sum(results[party][p] for p in parties if p != party)\n",
    "    percent = correct / (correct + misclassified)\n",
    "    summary_rows.append({\n",
    "        \"Party\": party,\n",
    "        \"Correctly Predicted\": correct,\n",
    "        \"Misclassified\": misclassified,\n",
    "        \"Percent\": percent\n",
    "    })\n",
    "\n",
    "df = pd.DataFrame(summary_rows)\n",
    "\n",
    "\n",
    "fig, ax = plt.subplots(figsize=(8, 2))\n",
    "ax.axis('off')\n",
    "table = ax.table(\n",
    "    cellText=[[row[\"Party\"], row[\"Correctly Predicted\"], row[\"Misclassified\"], f'{row[\"Percent\"]:.2%}'] for _, row in df.iterrows()],\n",
    "    colLabels=[\"Party\", \"Correctly Predicted\", \"Misclassified\", \"Percent\"],\n",
    "    cellLoc='center',\n",
    "    loc='center'\n",
    ")\n",
    "table.scale(1, 2)\n",
    "plt.title(\"Prediction Accuracy by Party\")\n",
    "plt.tight_layout()\n",
    "plt.show()\n",
    "\n",
    "\n",
    "correct = sum(results[p][p] for p in parties)\n",
    "total = sum(sum(results[p].values()) for p in parties)\n",
    "accuracy = correct / total if total > 0 else 0\n",
    "\n",
    "print(f\"\\nTotal Accuracy: {accuracy:.2%}\")"
   ]
  },
  {
   "cell_type": "markdown",
   "metadata": {},
   "source": [
    "### Reflections\n",
    "\n",
    "It's interesting but not surprising that a simple naive bayes classifier can do such a good job overall at classifying tweets as being from either republican or democrat. When I think about this task further it makes sense, political classification is one of the most basic text mining excersizes for the following reasons\n",
    "\n",
    "#1 Both political parties virtue signal to their supporters by using key buzzwords\n",
    "\n",
    "#2 We're doing binary classification, something more nuanced like spectrum analysis (far left, left, central, right , far right) would be more difficult as certain buzzwords wouldn't immediately give away the affiliation\n",
    "\n",
    "#3 People who tweet about politicians are usually firm supporters about either party, in the same way that people who tweet about sports are usually sports fans, therefore they mirror their parties ideology and buzzwords, if the sample set was let's say annonymized survey conversations, this could be more difficult"
   ]
  },
  {
   "cell_type": "code",
   "execution_count": null,
   "metadata": {},
   "outputs": [],
   "source": []
  },
  {
   "cell_type": "code",
   "execution_count": null,
   "metadata": {},
   "outputs": [],
   "source": []
  }
 ],
 "metadata": {
  "kernelspec": {
   "display_name": "Python 3 (ipykernel)",
   "language": "python",
   "name": "python3"
  },
  "language_info": {
   "codemirror_mode": {
    "name": "ipython",
    "version": 3
   },
   "file_extension": ".py",
   "mimetype": "text/x-python",
   "name": "python",
   "nbconvert_exporter": "python",
   "pygments_lexer": "ipython3",
   "version": "3.11.7"
  }
 },
 "nbformat": 4,
 "nbformat_minor": 4
}
